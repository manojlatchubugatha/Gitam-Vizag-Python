{
 "cells": [
  {
   "cell_type": "markdown",
   "metadata": {},
   "source": [
    "### String\n",
    "- strings\n",
    "- "
   ]
  },
  {
   "cell_type": "code",
   "execution_count": 2,
   "metadata": {},
   "outputs": [
    {
     "name": "stdout",
     "output_type": "stream",
     "text": [
      "python\n",
      "pogramming\n",
      "a\n",
      "<class 'str'> <class 'str'> <class 'str'>\n"
     ]
    }
   ],
   "source": [
    "s1 = 'python'\n",
    "s2 = 'pogramming'\n",
    "s3 = 'a'\n",
    "print(s1)\n",
    "print(s2)\n",
    "print(s3)\n",
    "print(type(s1),type(s2),type(s3))"
   ]
  },
  {
   "cell_type": "code",
   "execution_count": 3,
   "metadata": {},
   "outputs": [
    {
     "data": {
      "text/plain": [
       "'pto'"
      ]
     },
     "execution_count": 3,
     "metadata": {},
     "output_type": "execute_result"
    }
   ],
   "source": [
    "s1[::2]"
   ]
  },
  {
   "cell_type": "code",
   "execution_count": 4,
   "metadata": {},
   "outputs": [
    {
     "data": {
      "text/plain": [
       "'nohtyp'"
      ]
     },
     "execution_count": 4,
     "metadata": {},
     "output_type": "execute_result"
    }
   ],
   "source": [
    "s1[-1::-1]"
   ]
  },
  {
   "cell_type": "code",
   "execution_count": 5,
   "metadata": {},
   "outputs": [
    {
     "data": {
      "text/plain": [
       "'nhy'"
      ]
     },
     "execution_count": 5,
     "metadata": {},
     "output_type": "execute_result"
    }
   ],
   "source": [
    "s1[::-2]"
   ]
  },
  {
   "cell_type": "markdown",
   "metadata": {},
   "source": [
    "### Functions with String Operations"
   ]
  },
  {
   "cell_type": "code",
   "execution_count": 6,
   "metadata": {},
   "outputs": [
    {
     "data": {
      "text/plain": [
       "'nohtyp'"
      ]
     },
     "execution_count": 6,
     "metadata": {},
     "output_type": "execute_result"
    }
   ],
   "source": [
    "# reverse the string\n",
    "def reverseStr(s):\n",
    "    return s[-1::-1]\n",
    "reverseStr('python')"
   ]
  },
  {
   "cell_type": "code",
   "execution_count": 13,
   "metadata": {},
   "outputs": [
    {
     "name": "stdout",
     "output_type": "stream",
     "text": [
      "True\n",
      "False\n"
     ]
    }
   ],
   "source": [
    "# To check the string is palindorme or Not\n",
    "def isPalindrome(s):\n",
    "    if s == s[-1::-1]:\n",
    "        return True\n",
    "    return False\n",
    "print(isPalindrome('madam'))\n",
    "print(isPalindrome('manoj'))"
   ]
  },
  {
   "cell_type": "code",
   "execution_count": 18,
   "metadata": {},
   "outputs": [
    {
     "name": "stdout",
     "output_type": "stream",
     "text": [
      "P T "
     ]
    }
   ],
   "source": [
    "# Function to print the Upper case character\n",
    "# Example : PyThon -- P T\n",
    "\n",
    "#ASCII\n",
    "# A - Z : 65 - 90\n",
    "# a - z : 97 - 122\n",
    "# 0 - 9 : 48 - 57\n",
    "# Space : 32\n",
    "\n",
    "def printUpper(s):\n",
    "    for i in range(len(s)):\n",
    "        if ord(s[i]) >= 65 and ord(s[i]) <= 90:\n",
    "            print(s[i],end=' ')\n",
    "    return\n",
    "printUpper('PyThon') # P T"
   ]
  },
  {
   "cell_type": "code",
   "execution_count": 19,
   "metadata": {},
   "outputs": [
    {
     "data": {
      "text/plain": [
       "97"
      ]
     },
     "execution_count": 19,
     "metadata": {},
     "output_type": "execute_result"
    }
   ],
   "source": [
    "ord('a') # ord() function gives the output as number which is equ to Ascii number"
   ]
  },
  {
   "cell_type": "code",
   "execution_count": null,
   "metadata": {},
   "outputs": [],
   "source": [
    "#Function to return the output as 'sameCount' or 'Programming'\n",
    "#SameCount -- Lower and Upper chars have same count\n",
    "#Programming -- Count of Lower and Upper case is not same\n",
    "\n",
    "#Example #1 : PyThOn -- 3 P T O\n",
    "#                    -- 3 y h n\n",
    "#Output : SameCount\n",
    "\n",
    "#Example #2 : Python -- 2 P N\n",
    "#                    -- 4 y t h o\n",
    "#Output     : Programming"
   ]
  },
  {
   "cell_type": "code",
   "execution_count": 29,
   "metadata": {},
   "outputs": [
    {
     "name": "stdout",
     "output_type": "stream",
     "text": [
      "sameCount\n",
      "Not Same Count\n"
     ]
    }
   ],
   "source": [
    "def sameCount(s):\n",
    "    cntUpper=0\n",
    "    cntLower=0\n",
    "    for i in range(len(s)):\n",
    "        if ord(s[i]) >=65 and ord(s[i]) <= 90:\n",
    "              cntUpper=cntUpper+1\n",
    "        elif ord(s[i]) >=97 and ord(s[i]) <=122:\n",
    "              cntLower=cntLower+1\n",
    "    if cntUpper==cntLower:\n",
    "        print('sameCount')\n",
    "    elif cntUpper!=cntLower:\n",
    "        print('Not Same Count')\n",
    "        return\n",
    "sameCount('PyThOn')\n",
    "sameCount('Manu')"
   ]
  },
  {
   "cell_type": "code",
   "execution_count": 30,
   "metadata": {},
   "outputs": [
    {
     "name": "stdout",
     "output_type": "stream",
     "text": [
      "1 8 8 9 "
     ]
    }
   ],
   "source": [
    "# Function to Extract the digits from the String\n",
    "# Example #1\n",
    "# Input : Apple18cation89\n",
    "# Output : 1 8 8 9\n",
    "\n",
    "def Extract(s):\n",
    "    for i in range(len(s)):\n",
    "        if ord(s[i]) >= 48 and ord(s[i]) <= 57:\n",
    "            print(s[i],end=' ')\n",
    "    return\n",
    "Extract('Appli18cation89')"
   ]
  },
  {
   "cell_type": "code",
   "execution_count": 38,
   "metadata": {},
   "outputs": [
    {
     "name": "stdout",
     "output_type": "stream",
     "text": [
      "1 8 8 9 \n",
      "26\n"
     ]
    }
   ],
   "source": [
    "# Function to the add the digits of the string\n",
    "# Example #1:\n",
    "# Input : Appli18cation89\n",
    "# Output : 26(1+8+8+9)\n",
    "\n",
    "def addDigits(s):\n",
    "    add=0\n",
    "    for i in range(len(s)):\n",
    "        if ord(s[i]) >= 48 and ord(s[i]) <= 57:\n",
    "            print(s[i],end =' ')\n",
    "            add = add + int(s[i])\n",
    "    print()\n",
    "    return add\n",
    "print(addDigits('Appli18cation89'))\n"
   ]
  },
  {
   "cell_type": "code",
   "execution_count": 48,
   "metadata": {},
   "outputs": [
    {
     "name": "stdout",
     "output_type": "stream",
     "text": [
      "MADE"
     ]
    }
   ],
   "source": [
    "# Function to specific word in Upper case\n",
    "# Example #1\n",
    "# Input : Python Made Easy\n",
    "# Output : MADE\n",
    "\n",
    "# Example #2 : Learn Python Strings\n",
    "# Output : PYTHON\n",
    "\n",
    "def wordUpperCase(s):\n",
    "    cntSpace = 0\n",
    "    for i in range(len(s)):\n",
    "        if ord(s[i]) == 32:\n",
    "            cntSpace += 1\n",
    "        if cntSpace == 1:\n",
    "            if ord(s[i]) >= 65 and ord(s[i]) <= 90:\n",
    "                print(s[i],end='')\n",
    "            elif ord(s[i]) >= 97 and ord(s[i]) <= 122:\n",
    "                print(chr(ord(s[i])-32),end='')\n",
    "        if cntSpace == 2:\n",
    "            break\n",
    "    return\n",
    "wordUpperCase('Python Made Easy') #MADE"
   ]
  },
  {
   "cell_type": "markdown",
   "metadata": {},
   "source": [
    "### List\n",
    "- One of the DataStructure in Python\n",
    "- Data Structure means to store, sort and Search Options\n",
    "- It's one Common Data structure in Python, the items of List separated by comma and enclosed in square brackets[]\n",
    " - Example\n",
    "     - list1 = [1,2,3,4,5]\n",
    "     - list2 = [\"Gitam\",1,2,1.89,\"Vizag\"]\n"
   ]
  },
  {
   "cell_type": "code",
   "execution_count": 55,
   "metadata": {},
   "outputs": [
    {
     "name": "stdout",
     "output_type": "stream",
     "text": [
      "[1, 8, 9, 6, 7]\n",
      "1\n",
      "8\n",
      "7\n",
      "6\n",
      "[9, 6, 7]\n",
      "[1, 8]\n"
     ]
    }
   ],
   "source": [
    "list = [1,8,9,6,7]\n",
    "print(list) #will print all the items in the list\n",
    "print(list[0]) #Access the first item of the list\n",
    "print(list[1]) #Access the second item of the list\n",
    "print(list[-1]) #Access the last item of the list\n",
    "print(list[-2]) #Access the last second item of the list\n",
    "print(list[2:])\n",
    "print(list[:2])"
   ]
  },
  {
   "cell_type": "code",
   "execution_count": 56,
   "metadata": {},
   "outputs": [
    {
     "name": "stdout",
     "output_type": "stream",
     "text": [
      "['Gitam', 1582, 2018, 2019, 'Vizag']\n",
      "['Gitam', 1234, 2018, 2019, 'Vizag']\n"
     ]
    }
   ],
   "source": [
    "li = [\"Gitam\",1582,2018,2019,\"Vizag\"]\n",
    "print(li)\n",
    "# Update the list item with value using Index\n",
    "li[1] = 1234\n",
    "print(li)"
   ]
  },
  {
   "cell_type": "code",
   "execution_count": 57,
   "metadata": {},
   "outputs": [
    {
     "name": "stdout",
     "output_type": "stream",
     "text": [
      "['Gitam', 1234, 2018, 'Vizag']\n"
     ]
    }
   ],
   "source": [
    "# Delete the list item from the list\n",
    "del li[3]\n",
    "print(li)"
   ]
  },
  {
   "cell_type": "code",
   "execution_count": 62,
   "metadata": {},
   "outputs": [
    {
     "name": "stdout",
     "output_type": "stream",
     "text": [
      "5\n",
      "[1, 2, 3, 4, 5, 1, 2, 3, 4, 5]\n",
      "True\n",
      "False\n",
      "1 2 3 4 5 \n",
      "1 2 3 4 5 "
     ]
    }
   ],
   "source": [
    "# Basic List Operations\n",
    "li = [1,2,3,4,5]\n",
    "# Len of the List\n",
    "print(len(li))\n",
    "# List Repitation\n",
    "print(li *2)\n",
    "# To know certain item is present in the list or not\n",
    "print(4 in li)\n",
    "print(10 in li)\n",
    "# Access the list items from the iterations\n",
    "# 1 Way to define\n",
    "for i in li:\n",
    "    print(i,end=' ')\n",
    "print()\n",
    "# 2 Way to define\n",
    "for i in range(len(li)):\n",
    "    print(li[i],end=' ')\n"
   ]
  },
  {
   "cell_type": "code",
   "execution_count": 59,
   "metadata": {},
   "outputs": [
    {
     "name": "stdout",
     "output_type": "stream",
     "text": [
      "25\n",
      "1\n",
      "56\n",
      "11\n"
     ]
    }
   ],
   "source": [
    "# Basic List Functions\n",
    "li = [1,9,16,25,5]\n",
    "print(max(li)) # Max number of the List\n",
    "print(min(li)) # Min number of the List\n",
    "print(sum(li)) # Sum of all the list items\n",
    "print(sum(li)//len(li)) # Avg of List Items"
   ]
  },
  {
   "cell_type": "code",
   "execution_count": 1,
   "metadata": {},
   "outputs": [
    {
     "data": {
      "text/plain": [
       "2"
      ]
     },
     "execution_count": 1,
     "metadata": {},
     "output_type": "execute_result"
    }
   ],
   "source": [
    "# Methods of List\n",
    "li = [1,9,16,25,5]\n",
    "\n",
    "li.append(29) #Add the new item at the end of List\n",
    "li.insert(2,56) #Add the new item at specific Index\n",
    "li.append(9)\n",
    "li.count(9)\n",
    "li.index(56)"
   ]
  },
  {
   "cell_type": "code",
   "execution_count": 3,
   "metadata": {},
   "outputs": [
    {
     "data": {
      "text/plain": [
       "[1, 9, 9, 16, 25]"
      ]
     },
     "execution_count": 3,
     "metadata": {},
     "output_type": "execute_result"
    }
   ],
   "source": [
    "# Method of List Object\n",
    "li.sort() #Sorts the list in ascending order\n",
    "li.pop() #Last index value\n",
    "li.pop(1) #Removes the items from the specified index\n",
    "li"
   ]
  },
  {
   "cell_type": "code",
   "execution_count": 7,
   "metadata": {},
   "outputs": [
    {
     "name": "stdout",
     "output_type": "stream",
     "text": [
      "[9, 4, 6, 1]\n",
      "[9, 4, 6, 1, 98, 67, 85]\n",
      "[1, 4, 6, 9, 67, 85, 98]\n"
     ]
    }
   ],
   "source": [
    "li=[1,6,4,9]\n",
    "li.reverse()\n",
    "print(li)\n",
    "li1=[98,67,85]\n",
    "li.extend(li1)\n",
    "print(li)\n",
    "li.sort()\n",
    "print(li)"
   ]
  },
  {
   "cell_type": "code",
   "execution_count": 5,
   "metadata": {},
   "outputs": [
    {
     "name": "stdout",
     "output_type": "stream",
     "text": [
      "45\n",
      "25\n"
     ]
    }
   ],
   "source": [
    "# Function to return the large number from the list\n",
    "def largeNumber(li):\n",
    "    li.sort()\n",
    "    return li[-1]\n",
    "def genericLarge(li,n):\n",
    "    li.sort()\n",
    "    return li[-n]\n",
    "li = [19,1,25,6,9,45,22]\n",
    "print(largeNumber(li))\n",
    "print(genericLarge(li,2))"
   ]
  },
  {
   "cell_type": "code",
   "execution_count": 6,
   "metadata": {},
   "outputs": [
    {
     "name": "stdout",
     "output_type": "stream",
     "text": [
      "1\n",
      "19\n"
     ]
    }
   ],
   "source": [
    "# Function to find least and Generic least number from the list\n",
    "def leastNumber(li):\n",
    "    li.sort()\n",
    "    return li[0]\n",
    "def genericLeastNumber(li,n):\n",
    "    li.sort()\n",
    "    return li[n-1]\n",
    "li = [19,1,25,6,9,45,22]\n",
    "print(leastNumber(li))\n",
    "print(genericLeastNumber(li,4))"
   ]
  },
  {
   "cell_type": "markdown",
   "metadata": {},
   "source": [
    "### File Handling in Python\n",
    "- File - Document which contains some information and resides on permanent devices\n",
    "- Different types of File -- .txt,.pdf,.doc,.ppf and etc...\n",
    "- Input -- Keyboard\n",
    "- Output - File system"
   ]
  },
  {
   "cell_type": "code",
   "execution_count": 8,
   "metadata": {},
   "outputs": [
    {
     "name": "stdout",
     "output_type": "stream",
     "text": [
      "File is Successfully created and Data has inserted\n"
     ]
    }
   ],
   "source": [
    "# Function to Create File and Write some data to the file\n",
    "# Mode -- w (It creates the file and write to the some data)\n",
    "#         If the file already exists with same name then it will rewrite the data\n",
    "\n",
    "def createFile(filename):\n",
    "    f = open(filename,'w')\n",
    "    for i in range(10):\n",
    "        f.write('This is %d Line \\n' % i)\n",
    "    print('File is Successfully created and Data has inserted')\n",
    "    return\n",
    "createFile('data.txt')"
   ]
  },
  {
   "cell_type": "code",
   "execution_count": 9,
   "metadata": {},
   "outputs": [
    {
     "name": "stdout",
     "output_type": "stream",
     "text": [
      "Writing hello.txt\n"
     ]
    }
   ],
   "source": [
    "%%writefile hello.txt\n",
    "This is Python Programming"
   ]
  },
  {
   "cell_type": "code",
   "execution_count": 16,
   "metadata": {},
   "outputs": [
    {
     "name": "stdout",
     "output_type": "stream",
     "text": [
      "completed successfully\n"
     ]
    }
   ],
   "source": [
    "def createFile(filename):\n",
    "    f = open(filename,'w')\n",
    "    f.write('gitam vizag\\n')\n",
    "    print('completed successfully')\n",
    "    return\n",
    "createFile('data.txt')"
   ]
  },
  {
   "cell_type": "code",
   "execution_count": 17,
   "metadata": {},
   "outputs": [
    {
     "name": "stdout",
     "output_type": "stream",
     "text": [
      "Program completed successfully\n"
     ]
    }
   ],
   "source": [
    "def appendMode(filename):\n",
    "    f = open(filename,'a')\n",
    "    f.write('gitam vizag\\n')\n",
    "    f.write('Python Programming\\n')\n",
    "    print('Program completed successfully')\n",
    "    return\n",
    "appendMode('data.txt')"
   ]
  },
  {
   "cell_type": "code",
   "execution_count": 18,
   "metadata": {},
   "outputs": [
    {
     "name": "stdout",
     "output_type": "stream",
     "text": [
      "gitam vizag\n",
      "gitam vizag\n",
      "Python Programming\n",
      "\n"
     ]
    }
   ],
   "source": [
    "# Function to read the file\n",
    "\n",
    "def readFileData(filename):\n",
    "    f = open(filename,'r')\n",
    "    if f.mode == 'r':\n",
    "        a = f.read()\n",
    "        print(a)\n",
    "    f.close()\n",
    "    return\n",
    "readFileData('data.txt')"
   ]
  },
  {
   "cell_type": "code",
   "execution_count": 19,
   "metadata": {},
   "outputs": [
    {
     "name": "stdout",
     "output_type": "stream",
     "text": [
      "['python', 'programming']\n"
     ]
    }
   ],
   "source": [
    "# Analysis on the file -- Word count, Char count, Digit count\n",
    "s1=\"python programming\"\n",
    "print(s1.split())"
   ]
  },
  {
   "cell_type": "code",
   "execution_count": 22,
   "metadata": {},
   "outputs": [
    {
     "data": {
      "text/plain": [
       "6"
      ]
     },
     "execution_count": 22,
     "metadata": {},
     "output_type": "execute_result"
    }
   ],
   "source": [
    "# Word Count -- Input file\n",
    "def wordCount(filename):\n",
    "    with open(filename, 'r') as f:\n",
    "        if f.mode == 'r':\n",
    "            a = f.read()\n",
    "            li = a.split() #Divides the words by using white space\n",
    "    return len(li)\n",
    "wordCount('data.txt')     "
   ]
  },
  {
   "cell_type": "code",
   "execution_count": 27,
   "metadata": {},
   "outputs": [
    {
     "data": {
      "text/plain": [
       "2"
      ]
     },
     "execution_count": 27,
     "metadata": {},
     "output_type": "execute_result"
    }
   ],
   "source": [
    "# Specific Word count from the file\n",
    "# Example #1:\n",
    "# Input -- This\n",
    "# Output -- 10\n",
    "\n",
    "# Example #2:\n",
    "# Input -- Gitam\n",
    "# Output -- 1\n",
    "\n",
    "def specificWordCnt(filename,word):\n",
    "    with open(filename, 'r') as f:\n",
    "        if f.mode == 'r':\n",
    "            a = f.read()\n",
    "            li = a.split()\n",
    "    return li.count(word)\n",
    "specificWordCnt('data.txt', 'gitam')"
   ]
  },
  {
   "cell_type": "code",
   "execution_count": 31,
   "metadata": {},
   "outputs": [
    {
     "data": {
      "text/plain": [
       "43"
      ]
     },
     "execution_count": 31,
     "metadata": {},
     "output_type": "execute_result"
    }
   ],
   "source": [
    "# Function to find the character count from the Input file\n",
    "def charCount(filename):\n",
    "    with open(filename, 'r') as f:\n",
    "        if f.mode == 'r':\n",
    "            a=f.read()\n",
    "            li=list(a)\n",
    "    return len(li)\n",
    "charCount('data.txt')"
   ]
  },
  {
   "cell_type": "markdown",
   "metadata": {},
   "source": [
    "### List() - Converts the input string into sequence of characters"
   ]
  },
  {
   "cell_type": "code",
   "execution_count": 32,
   "metadata": {},
   "outputs": [
    {
     "name": "stdout",
     "output_type": "stream",
     "text": [
      "['p', 'y', 't', 'h', 'o', 'n']\n"
     ]
    }
   ],
   "source": [
    "s=\"python\"\n",
    "li=list(s)\n",
    "print(li)"
   ]
  },
  {
   "cell_type": "code",
   "execution_count": 33,
   "metadata": {},
   "outputs": [
    {
     "data": {
      "text/plain": [
       "4"
      ]
     },
     "execution_count": 33,
     "metadata": {},
     "output_type": "execute_result"
    }
   ],
   "source": [
    "# Find no of Lines or rows in the given input stream\n",
    "\n",
    "def findLineCount(filename):\n",
    "    with open(filename, 'r') as f:\n",
    "        if f.mode == 'r':\n",
    "            a = f.read()\n",
    "            li = a.split('\\n')\n",
    "    return len(li)\n",
    "findLineCount('data.txt')\n"
   ]
  },
  {
   "cell_type": "code",
   "execution_count": 34,
   "metadata": {},
   "outputs": [
    {
     "data": {
      "text/plain": [
       "'Upper Case : 2 Lower Case : 35 Digit : 0'"
      ]
     },
     "execution_count": 34,
     "metadata": {},
     "output_type": "execute_result"
    }
   ],
   "source": [
    "def casecount(filename):\n",
    "    cntUpper = 0\n",
    "    cntLower = 0\n",
    "    cntDigit = 0\n",
    "    with open(filename, 'r') as f:\n",
    "        if f.mode == 'r':\n",
    "            a = f.read()\n",
    "            li = list(a)\n",
    "    for i in range(len(li)):\n",
    "        if ord(li[i]) >= 65 and ord(li[i]) <= 90:\n",
    "            cntUpper += 1\n",
    "        elif ord(li[i]) >= 97 and ord(li[i]) <= 122:\n",
    "            cntLower += 1\n",
    "        elif ord(li[i]) >= 48 and ord(li[i]) <=57:\n",
    "            cntDigit += 1\n",
    "    output = 'Upper Case : {0} Lower Case : {1} Digit : {2}'.format(cntUpper,cntLower,cntDigit)\n",
    "    return output\n",
    "casecount('data.txt')"
   ]
  },
  {
   "cell_type": "code",
   "execution_count": null,
   "metadata": {},
   "outputs": [],
   "source": []
  }
 ],
 "metadata": {
  "kernelspec": {
   "display_name": "Python 3",
   "language": "python",
   "name": "python3"
  },
  "language_info": {
   "codemirror_mode": {
    "name": "ipython",
    "version": 3
   },
   "file_extension": ".py",
   "mimetype": "text/x-python",
   "name": "python",
   "nbconvert_exporter": "python",
   "pygments_lexer": "ipython3",
   "version": "3.7.3"
  }
 },
 "nbformat": 4,
 "nbformat_minor": 2
}
